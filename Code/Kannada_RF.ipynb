{
 "cells": [
  {
   "cell_type": "code",
   "execution_count": 1,
   "id": "e7089280-b835-49b6-8052-c489cc22a983",
   "metadata": {},
   "outputs": [
    {
     "name": "stdout",
     "output_type": "stream",
     "text": [
      "✅ Accuracy: 0.9805\n",
      "📊 Classification Report:\n",
      "               precision    recall  f1-score   support\n",
      "\n",
      "           0       0.98      0.98      0.98       557\n",
      "           1       0.98      0.99      0.99       577\n",
      "           2       1.00      0.99      1.00       626\n",
      "           3       0.97      0.97      0.97       592\n",
      "           4       0.98      0.98      0.98       627\n",
      "           5       0.98      0.99      0.98       573\n",
      "           6       0.95      0.98      0.97       576\n",
      "           7       0.98      0.95      0.96       627\n",
      "           8       0.99      1.00      0.99       634\n",
      "           9       0.99      0.97      0.98       611\n",
      "\n",
      "    accuracy                           0.98      6000\n",
      "   macro avg       0.98      0.98      0.98      6000\n",
      "weighted avg       0.98      0.98      0.98      6000\n",
      "\n",
      "✅ RF model trained and saved to models/kannada_rf_model.pkl\n"
     ]
    }
   ],
   "source": [
    "# rf_kannada_training_csv.py\n",
    "\n",
    "import pandas as pd\n",
    "from sklearn.ensemble import RandomForestClassifier\n",
    "from sklearn.model_selection import train_test_split\n",
    "from sklearn.metrics import classification_report, accuracy_score\n",
    "import joblib\n",
    "import os\n",
    "\n",
    "# -----------------------------\n",
    "# Load and preprocess the data\n",
    "# -----------------------------\n",
    "df = pd.read_csv(\"Kannada/train.csv\")  # Adjust path if needed\n",
    "\n",
    "# Separate features and labels\n",
    "X = df.drop(\"label\", axis=1).values\n",
    "y = df[\"label\"].values\n",
    "\n",
    "# Train-validation split\n",
    "X_train, X_val, y_train, y_val = train_test_split(X, y, test_size=0.1, random_state=42)\n",
    "\n",
    "# -----------------------------\n",
    "# Train Random Forest model\n",
    "# -----------------------------\n",
    "rf_model = RandomForestClassifier(n_estimators=100, random_state=42)\n",
    "rf_model.fit(X_train, y_train)\n",
    "\n",
    "# -----------------------------\n",
    "# Evaluate the model\n",
    "# -----------------------------\n",
    "y_pred = rf_model.predict(X_val)\n",
    "print(\"✅ Accuracy:\", accuracy_score(y_val, y_pred))\n",
    "print(\"📊 Classification Report:\\n\", classification_report(y_val, y_pred))\n",
    "\n",
    "# -----------------------------\n",
    "# Save the model\n",
    "# -----------------------------\n",
    "os.makedirs(\"models\", exist_ok=True)\n",
    "joblib.dump(rf_model, \"models/kannada_rf_model.pkl\")\n",
    "\n",
    "print(\"✅ RF model trained and saved to models/kannada_rf_model.pkl\")\n"
   ]
  },
  {
   "cell_type": "code",
   "execution_count": null,
   "id": "da844493-5d27-436f-a51c-9140405babf1",
   "metadata": {},
   "outputs": [],
   "source": []
  }
 ],
 "metadata": {
  "kernelspec": {
   "display_name": "Python 3 (ipykernel)",
   "language": "python",
   "name": "python3"
  },
  "language_info": {
   "codemirror_mode": {
    "name": "ipython",
    "version": 3
   },
   "file_extension": ".py",
   "mimetype": "text/x-python",
   "name": "python",
   "nbconvert_exporter": "python",
   "pygments_lexer": "ipython3",
   "version": "3.12.7"
  }
 },
 "nbformat": 4,
 "nbformat_minor": 5
}
