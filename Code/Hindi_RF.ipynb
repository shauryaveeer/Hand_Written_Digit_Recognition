{
 "cells": [
  {
   "cell_type": "code",
   "execution_count": 1,
   "id": "12f42596-25e1-45d0-b022-9f125d0121b6",
   "metadata": {},
   "outputs": [
    {
     "name": "stdout",
     "output_type": "stream",
     "text": [
      "Hindi Random Forest Accuracy: 0.9803\n"
     ]
    },
    {
     "data": {
      "text/plain": [
       "['models/hindi_rf_model.pkl']"
      ]
     },
     "execution_count": 1,
     "metadata": {},
     "output_type": "execute_result"
    }
   ],
   "source": [
    "# rf_hindi_model.py\n",
    "\n",
    "import os\n",
    "import numpy as np\n",
    "from tensorflow.keras.preprocessing.image import load_img, img_to_array\n",
    "from sklearn.ensemble import RandomForestClassifier\n",
    "from sklearn.metrics import accuracy_score\n",
    "import joblib\n",
    "import re\n",
    "\n",
    "# Parameters\n",
    "img_height, img_width = 28, 28\n",
    "train_dir = \"Hindi/train\"\n",
    "test_dir = \"Hindi/test\"\n",
    "\n",
    "def extract_numeric_label(folder_name):\n",
    "    match = re.search(r'\\d+', folder_name)\n",
    "    return int(match.group()) if match else -1\n",
    "\n",
    "def load_images_from_folder(folder):\n",
    "    images = []\n",
    "    labels = []\n",
    "    for label_folder in os.listdir(folder):\n",
    "        class_dir = os.path.join(folder, label_folder)\n",
    "        if not os.path.isdir(class_dir):\n",
    "            continue\n",
    "        label = extract_numeric_label(label_folder)\n",
    "        for file in os.listdir(class_dir):\n",
    "            img_path = os.path.join(class_dir, file)\n",
    "            img = load_img(img_path, color_mode=\"grayscale\", target_size=(img_height, img_width))\n",
    "            img_array = img_to_array(img).reshape(-1) / 255.0\n",
    "            images.append(img_array)\n",
    "            labels.append(label)\n",
    "    return np.array(images), np.array(labels)\n",
    "\n",
    "# Load data\n",
    "x_train, y_train = load_images_from_folder(train_dir)\n",
    "x_test, y_test = load_images_from_folder(test_dir)\n",
    "\n",
    "# Train Random Forest\n",
    "rf_model = RandomForestClassifier(n_estimators=100, random_state=42)\n",
    "rf_model.fit(x_train, y_train)\n",
    "\n",
    "# Evaluate\n",
    "y_pred = rf_model.predict(x_test)\n",
    "accuracy = accuracy_score(y_test, y_pred)\n",
    "print(f\"Hindi Random Forest Accuracy: {accuracy:.4f}\")\n",
    "\n",
    "# Save model\n",
    "os.makedirs(\"models\", exist_ok=True)\n",
    "joblib.dump(rf_model, \"models/hindi_rf_model.pkl\")\n"
   ]
  },
  {
   "cell_type": "code",
   "execution_count": null,
   "id": "c958751d-28f8-43c5-acd2-e6d5434d4d7c",
   "metadata": {},
   "outputs": [],
   "source": []
  }
 ],
 "metadata": {
  "kernelspec": {
   "display_name": "Python 3 (ipykernel)",
   "language": "python",
   "name": "python3"
  },
  "language_info": {
   "codemirror_mode": {
    "name": "ipython",
    "version": 3
   },
   "file_extension": ".py",
   "mimetype": "text/x-python",
   "name": "python",
   "nbconvert_exporter": "python",
   "pygments_lexer": "ipython3",
   "version": "3.12.7"
  }
 },
 "nbformat": 4,
 "nbformat_minor": 5
}
