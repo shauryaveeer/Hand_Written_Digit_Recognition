{
 "cells": [
  {
   "cell_type": "code",
   "execution_count": 1,
   "id": "62f2f6ca-1412-4e1b-81f2-7876cacd6011",
   "metadata": {},
   "outputs": [
    {
     "name": "stdout",
     "output_type": "stream",
     "text": [
      "⚠️ Skipping file Roman Numbers/train\\6\\desktop.ini: cannot identify image file <_io.BytesIO object at 0x000002D71A5C9670>\n",
      "Roman Random Forest Accuracy: 0.9675\n"
     ]
    },
    {
     "data": {
      "text/plain": [
       "['models/roman_rf_model.pkl']"
      ]
     },
     "execution_count": 1,
     "metadata": {},
     "output_type": "execute_result"
    }
   ],
   "source": [
    "# rf_roman_model.py\n",
    "\n",
    "import os\n",
    "import numpy as np\n",
    "import re\n",
    "from tensorflow.keras.preprocessing.image import load_img, img_to_array\n",
    "from sklearn.ensemble import RandomForestClassifier\n",
    "from sklearn.metrics import accuracy_score\n",
    "import joblib\n",
    "\n",
    "# Parameters\n",
    "img_height, img_width = 28, 28\n",
    "train_dir = \"Roman Numbers/train\"\n",
    "val_dir = \"Roman Numbers/val\"\n",
    "test_dir = \"Roman Numbers/test\"\n",
    "\n",
    "def extract_numeric_label(folder_name):\n",
    "    match = re.search(r'\\d+', folder_name)\n",
    "    return int(match.group()) - 1  # Convert Roman class 1-10 to labels 0-9\n",
    "\n",
    "def load_images_from_folder(folder):\n",
    "    images = []\n",
    "    labels = []\n",
    "    for label_folder in os.listdir(folder):\n",
    "        class_dir = os.path.join(folder, label_folder)\n",
    "        if not os.path.isdir(class_dir):\n",
    "            continue\n",
    "        label = extract_numeric_label(label_folder)\n",
    "        for file in os.listdir(class_dir):\n",
    "            img_path = os.path.join(class_dir, file)\n",
    "            try:\n",
    "                img = load_img(img_path, color_mode=\"grayscale\", target_size=(img_height, img_width))\n",
    "                img_array = img_to_array(img).reshape(-1) / 255.0  # Flattened & normalized\n",
    "                images.append(img_array)\n",
    "                labels.append(label)\n",
    "            except Exception as e:\n",
    "                print(f\"⚠️ Skipping file {img_path}: {e}\")\n",
    "    return np.array(images), np.array(labels)\n",
    "\n",
    "# Load data\n",
    "x_train, y_train = load_images_from_folder(train_dir)\n",
    "x_val, y_val = load_images_from_folder(val_dir)\n",
    "x_test, y_test = load_images_from_folder(test_dir)\n",
    "\n",
    "# Combine train and val for better training\n",
    "x_train_full = np.concatenate([x_train, x_val], axis=0)\n",
    "y_train_full = np.concatenate([y_train, y_val], axis=0)\n",
    "\n",
    "# Train Random Forest\n",
    "rf_model = RandomForestClassifier(n_estimators=100, random_state=42)\n",
    "rf_model.fit(x_train_full, y_train_full)\n",
    "\n",
    "# Evaluate\n",
    "y_pred = rf_model.predict(x_test)\n",
    "accuracy = accuracy_score(y_test, y_pred)\n",
    "print(f\"Roman Random Forest Accuracy: {accuracy:.4f}\")\n",
    "\n",
    "# Save model\n",
    "os.makedirs(\"models\", exist_ok=True)\n",
    "joblib.dump(rf_model, \"models/roman_rf_model.pkl\")\n"
   ]
  },
  {
   "cell_type": "code",
   "execution_count": null,
   "id": "aba4aa37-fcdc-46ba-b1b8-94d02105d659",
   "metadata": {},
   "outputs": [],
   "source": []
  }
 ],
 "metadata": {
  "kernelspec": {
   "display_name": "Python 3 (ipykernel)",
   "language": "python",
   "name": "python3"
  },
  "language_info": {
   "codemirror_mode": {
    "name": "ipython",
    "version": 3
   },
   "file_extension": ".py",
   "mimetype": "text/x-python",
   "name": "python",
   "nbconvert_exporter": "python",
   "pygments_lexer": "ipython3",
   "version": "3.12.7"
  }
 },
 "nbformat": 4,
 "nbformat_minor": 5
}
