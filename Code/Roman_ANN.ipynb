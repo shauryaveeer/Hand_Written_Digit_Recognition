{
 "cells": [
  {
   "cell_type": "code",
   "execution_count": 4,
   "id": "348e960a-95e8-4fda-90bd-635d39ba334e",
   "metadata": {},
   "outputs": [
    {
     "name": "stdout",
     "output_type": "stream",
     "text": [
      "Skipping invalid file: Roman Numbers/train\\6\\desktop.ini – cannot identify image file <_io.BytesIO object at 0x00000238DF3ABE20>\n",
      "Epoch 1/10\n",
      "\u001b[1m216/216\u001b[0m \u001b[32m━━━━━━━━━━━━━━━━━━━━\u001b[0m\u001b[37m\u001b[0m \u001b[1m2s\u001b[0m 4ms/step - accuracy: 0.5514 - loss: 1.4760 - val_accuracy: 0.8563 - val_loss: 0.5045\n",
      "Epoch 2/10\n",
      "\u001b[1m216/216\u001b[0m \u001b[32m━━━━━━━━━━━━━━━━━━━━\u001b[0m\u001b[37m\u001b[0m \u001b[1m1s\u001b[0m 3ms/step - accuracy: 0.8733 - loss: 0.4386 - val_accuracy: 0.8629 - val_loss: 0.4392\n",
      "Epoch 3/10\n",
      "\u001b[1m216/216\u001b[0m \u001b[32m━━━━━━━━━━━━━━━━━━━━\u001b[0m\u001b[37m\u001b[0m \u001b[1m1s\u001b[0m 3ms/step - accuracy: 0.9004 - loss: 0.3451 - val_accuracy: 0.9005 - val_loss: 0.3363\n",
      "Epoch 4/10\n",
      "\u001b[1m216/216\u001b[0m \u001b[32m━━━━━━━━━━━━━━━━━━━━\u001b[0m\u001b[37m\u001b[0m \u001b[1m1s\u001b[0m 3ms/step - accuracy: 0.9119 - loss: 0.3031 - val_accuracy: 0.9010 - val_loss: 0.3200\n",
      "Epoch 5/10\n",
      "\u001b[1m216/216\u001b[0m \u001b[32m━━━━━━━━━━━━━━━━━━━━\u001b[0m\u001b[37m\u001b[0m \u001b[1m1s\u001b[0m 3ms/step - accuracy: 0.9167 - loss: 0.2679 - val_accuracy: 0.9045 - val_loss: 0.2912\n",
      "Epoch 6/10\n",
      "\u001b[1m216/216\u001b[0m \u001b[32m━━━━━━━━━━━━━━━━━━━━\u001b[0m\u001b[37m\u001b[0m \u001b[1m1s\u001b[0m 3ms/step - accuracy: 0.9319 - loss: 0.2419 - val_accuracy: 0.8994 - val_loss: 0.3031\n",
      "Epoch 7/10\n",
      "\u001b[1m216/216\u001b[0m \u001b[32m━━━━━━━━━━━━━━━━━━━━\u001b[0m\u001b[37m\u001b[0m \u001b[1m1s\u001b[0m 3ms/step - accuracy: 0.9292 - loss: 0.2377 - val_accuracy: 0.8735 - val_loss: 0.3550\n",
      "Epoch 8/10\n",
      "\u001b[1m216/216\u001b[0m \u001b[32m━━━━━━━━━━━━━━━━━━━━\u001b[0m\u001b[37m\u001b[0m \u001b[1m1s\u001b[0m 3ms/step - accuracy: 0.9341 - loss: 0.2101 - val_accuracy: 0.9172 - val_loss: 0.2516\n",
      "Epoch 9/10\n",
      "\u001b[1m216/216\u001b[0m \u001b[32m━━━━━━━━━━━━━━━━━━━━\u001b[0m\u001b[37m\u001b[0m \u001b[1m1s\u001b[0m 3ms/step - accuracy: 0.9446 - loss: 0.1878 - val_accuracy: 0.9106 - val_loss: 0.2721\n",
      "Epoch 10/10\n",
      "\u001b[1m216/216\u001b[0m \u001b[32m━━━━━━━━━━━━━━━━━━━━\u001b[0m\u001b[37m\u001b[0m \u001b[1m1s\u001b[0m 3ms/step - accuracy: 0.9490 - loss: 0.1673 - val_accuracy: 0.9208 - val_loss: 0.2576\n"
     ]
    },
    {
     "name": "stderr",
     "output_type": "stream",
     "text": [
      "WARNING:absl:You are saving your model as an HDF5 file via `model.save()` or `keras.saving.save_model(model)`. This file format is considered legacy. We recommend using instead the native Keras format, e.g. `model.save('my_model.keras')` or `keras.saving.save_model(model, 'my_model.keras')`. \n"
     ]
    }
   ],
   "source": [
    "# ann_roman_model.py\n",
    "\n",
    "import os\n",
    "import numpy as np\n",
    "import re\n",
    "from tensorflow.keras.preprocessing.image import load_img, img_to_array\n",
    "from tensorflow.keras.models import Sequential\n",
    "from tensorflow.keras.layers import Dense\n",
    "from tensorflow.keras.utils import to_categorical\n",
    "\n",
    "# Parameters\n",
    "img_height, img_width = 28, 28\n",
    "train_dir = \"Roman Numbers/train\"\n",
    "val_dir = \"Roman Numbers/val\"\n",
    "test_dir = \"Roman Numbers/test\"\n",
    "\n",
    "def extract_numeric_label(folder_name):\n",
    "    match = re.search(r'\\d+', folder_name)\n",
    "    return int(match.group()) - 1  # Map 1-10 to class indices 0–9\n",
    "\n",
    "def load_images_from_folder(folder):\n",
    "    images = []\n",
    "    labels = []\n",
    "    for label_folder in os.listdir(folder):\n",
    "        class_dir = os.path.join(folder, label_folder)\n",
    "        if not os.path.isdir(class_dir):\n",
    "            continue\n",
    "        label = extract_numeric_label(label_folder)\n",
    "        for file in os.listdir(class_dir):\n",
    "            img_path = os.path.join(class_dir, file)\n",
    "            try:\n",
    "                img = load_img(img_path, color_mode=\"grayscale\", target_size=(img_height, img_width))\n",
    "                img_array = img_to_array(img).reshape(-1) / 255.0  # Flattened & normalized\n",
    "                images.append(img_array)\n",
    "                labels.append(label)\n",
    "            except Exception as e:\n",
    "                print(f\"Skipping invalid file: {img_path} – {e}\")\n",
    "    return np.array(images), np.array(labels)\n",
    "\n",
    "# Load datasets\n",
    "x_train, y_train = load_images_from_folder(train_dir)\n",
    "x_val, y_val = load_images_from_folder(val_dir)\n",
    "x_test, y_test = load_images_from_folder(test_dir)\n",
    "\n",
    "# One-hot encode labels\n",
    "y_train_cat = to_categorical(y_train, 10)\n",
    "y_val_cat = to_categorical(y_val, 10)\n",
    "y_test_cat = to_categorical(y_test, 10)\n",
    "\n",
    "# Build ANN model\n",
    "model = Sequential([\n",
    "    Dense(128, activation=\"relu\", input_shape=(img_height * img_width,)),\n",
    "    Dense(64, activation=\"relu\"),\n",
    "    Dense(10, activation=\"softmax\")\n",
    "])\n",
    "\n",
    "# Compile model\n",
    "model.compile(optimizer=\"adam\", loss=\"categorical_crossentropy\", metrics=[\"accuracy\"])\n",
    "\n",
    "# Train model\n",
    "model.fit(x_train, y_train_cat, epochs=10, batch_size=32, validation_data=(x_val, y_val_cat))\n",
    "\n",
    "# Save model\n",
    "os.makedirs(\"models\", exist_ok=True)\n",
    "model.save(\"models/roman_ann_model.h5\")\n"
   ]
  },
  {
   "cell_type": "code",
   "execution_count": null,
   "id": "4e5e7e0c-6668-4c88-97d6-5176e5c21712",
   "metadata": {},
   "outputs": [],
   "source": []
  }
 ],
 "metadata": {
  "kernelspec": {
   "display_name": "Python 3 (ipykernel)",
   "language": "python",
   "name": "python3"
  },
  "language_info": {
   "codemirror_mode": {
    "name": "ipython",
    "version": 3
   },
   "file_extension": ".py",
   "mimetype": "text/x-python",
   "name": "python",
   "nbconvert_exporter": "python",
   "pygments_lexer": "ipython3",
   "version": "3.12.7"
  }
 },
 "nbformat": 4,
 "nbformat_minor": 5
}
